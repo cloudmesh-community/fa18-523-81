{
 "cells": [
  {
   "cell_type": "markdown",
   "metadata": {},
   "source": [
    "# Visualizing Commodity Trade Statistics Using Azure, Python"
   ]
  },
  {
   "cell_type": "code",
   "execution_count": 1,
   "metadata": {},
   "outputs": [
    {
     "data": {
      "text/html": [
       "<div>\n",
       "<style scoped>\n",
       "    .dataframe tbody tr th:only-of-type {\n",
       "        vertical-align: middle;\n",
       "    }\n",
       "\n",
       "    .dataframe tbody tr th {\n",
       "        vertical-align: top;\n",
       "    }\n",
       "\n",
       "    .dataframe thead th {\n",
       "        text-align: right;\n",
       "    }\n",
       "</style>\n",
       "<table border=\"1\" class=\"dataframe\">\n",
       "  <thead>\n",
       "    <tr style=\"text-align: right;\">\n",
       "      <th></th>\n",
       "      <th>country_or_area</th>\n",
       "      <th>year</th>\n",
       "      <th>comm_code</th>\n",
       "      <th>commodity</th>\n",
       "      <th>flow</th>\n",
       "      <th>trade_usd</th>\n",
       "      <th>weight_kg</th>\n",
       "      <th>quantity_name</th>\n",
       "      <th>quantity</th>\n",
       "      <th>category</th>\n",
       "    </tr>\n",
       "  </thead>\n",
       "  <tbody>\n",
       "    <tr>\n",
       "      <th>0</th>\n",
       "      <td>Afghanistan</td>\n",
       "      <td>2016</td>\n",
       "      <td>010410</td>\n",
       "      <td>Sheep, live</td>\n",
       "      <td>Export</td>\n",
       "      <td>6088</td>\n",
       "      <td>2339.0</td>\n",
       "      <td>Number of items</td>\n",
       "      <td>51.0</td>\n",
       "      <td>01_live_animals</td>\n",
       "    </tr>\n",
       "    <tr>\n",
       "      <th>1</th>\n",
       "      <td>Afghanistan</td>\n",
       "      <td>2016</td>\n",
       "      <td>010420</td>\n",
       "      <td>Goats, live</td>\n",
       "      <td>Export</td>\n",
       "      <td>3958</td>\n",
       "      <td>984.0</td>\n",
       "      <td>Number of items</td>\n",
       "      <td>53.0</td>\n",
       "      <td>01_live_animals</td>\n",
       "    </tr>\n",
       "    <tr>\n",
       "      <th>2</th>\n",
       "      <td>Afghanistan</td>\n",
       "      <td>2008</td>\n",
       "      <td>010210</td>\n",
       "      <td>Bovine animals, live pure-bred breeding</td>\n",
       "      <td>Import</td>\n",
       "      <td>1026804</td>\n",
       "      <td>272.0</td>\n",
       "      <td>Number of items</td>\n",
       "      <td>3769.0</td>\n",
       "      <td>01_live_animals</td>\n",
       "    </tr>\n",
       "    <tr>\n",
       "      <th>3</th>\n",
       "      <td>Albania</td>\n",
       "      <td>2016</td>\n",
       "      <td>010290</td>\n",
       "      <td>Bovine animals, live, except pure-bred breeding</td>\n",
       "      <td>Import</td>\n",
       "      <td>2414533</td>\n",
       "      <td>1114023.0</td>\n",
       "      <td>Number of items</td>\n",
       "      <td>6853.0</td>\n",
       "      <td>01_live_animals</td>\n",
       "    </tr>\n",
       "    <tr>\n",
       "      <th>4</th>\n",
       "      <td>Albania</td>\n",
       "      <td>2016</td>\n",
       "      <td>010392</td>\n",
       "      <td>Swine, live except pure-bred breeding &gt; 50 kg</td>\n",
       "      <td>Import</td>\n",
       "      <td>14265937</td>\n",
       "      <td>9484953.0</td>\n",
       "      <td>Number of items</td>\n",
       "      <td>96040.0</td>\n",
       "      <td>01_live_animals</td>\n",
       "    </tr>\n",
       "  </tbody>\n",
       "</table>\n",
       "</div>"
      ],
      "text/plain": [
       "  country_or_area  year comm_code  \\\n",
       "0     Afghanistan  2016    010410   \n",
       "1     Afghanistan  2016    010420   \n",
       "2     Afghanistan  2008    010210   \n",
       "3         Albania  2016    010290   \n",
       "4         Albania  2016    010392   \n",
       "\n",
       "                                         commodity    flow  trade_usd  \\\n",
       "0                                      Sheep, live  Export       6088   \n",
       "1                                      Goats, live  Export       3958   \n",
       "2          Bovine animals, live pure-bred breeding  Import    1026804   \n",
       "3  Bovine animals, live, except pure-bred breeding  Import    2414533   \n",
       "4    Swine, live except pure-bred breeding > 50 kg  Import   14265937   \n",
       "\n",
       "   weight_kg    quantity_name  quantity         category  \n",
       "0     2339.0  Number of items      51.0  01_live_animals  \n",
       "1      984.0  Number of items      53.0  01_live_animals  \n",
       "2      272.0  Number of items    3769.0  01_live_animals  \n",
       "3  1114023.0  Number of items    6853.0  01_live_animals  \n",
       "4  9484953.0  Number of items   96040.0  01_live_animals  "
      ]
     },
     "execution_count": 1,
     "metadata": {},
     "output_type": "execute_result"
    }
   ],
   "source": [
    "from azure.storage.blob import BlockBlobService\n",
    "from azure.storage.blob import ContentSettings\n",
    "import os\n",
    "import uuid\n",
    "from io import StringIO\n",
    "import pandas as pd\n",
    "\n",
    "block_blob_service = BlockBlobService(account_name='<insert account_name here>', account_key='<insert key here>')\n",
    "\n",
    "\n",
    "blobstring = block_blob_service.get_blob_to_text('mycontainer', 'commodity.csv').content\n",
    "df = pd.read_csv(StringIO(blobstring), low_memory=False)\n",
    "\n",
    "df.head(5)"
   ]
  },
  {
   "cell_type": "code",
   "execution_count": 2,
   "metadata": {},
   "outputs": [
    {
     "data": {
      "text/plain": [
       "RendererRegistry.enable('notebook')"
      ]
     },
     "execution_count": 2,
     "metadata": {},
     "output_type": "execute_result"
    }
   ],
   "source": [
    "import seaborn as sns\n",
    "import matplotlib.pyplot as plt\n",
    "import altair as alt\n",
    "alt.renderers.enable('notebook')"
   ]
  },
  {
   "cell_type": "code",
   "execution_count": 3,
   "metadata": {},
   "outputs": [
    {
     "data": {
      "text/html": [
       "<div>\n",
       "<style scoped>\n",
       "    .dataframe tbody tr th:only-of-type {\n",
       "        vertical-align: middle;\n",
       "    }\n",
       "\n",
       "    .dataframe tbody tr th {\n",
       "        vertical-align: top;\n",
       "    }\n",
       "\n",
       "    .dataframe thead th {\n",
       "        text-align: right;\n",
       "    }\n",
       "</style>\n",
       "<table border=\"1\" class=\"dataframe\">\n",
       "  <thead>\n",
       "    <tr style=\"text-align: right;\">\n",
       "      <th></th>\n",
       "      <th>year</th>\n",
       "      <th>trade_usd</th>\n",
       "      <th>weight_kg</th>\n",
       "      <th>quantity</th>\n",
       "    </tr>\n",
       "  </thead>\n",
       "  <tbody>\n",
       "    <tr>\n",
       "      <th>count</th>\n",
       "      <td>8.225871e+06</td>\n",
       "      <td>8.225871e+06</td>\n",
       "      <td>8.097396e+06</td>\n",
       "      <td>7.921014e+06</td>\n",
       "    </tr>\n",
       "    <tr>\n",
       "      <th>mean</th>\n",
       "      <td>2.004768e+03</td>\n",
       "      <td>9.505370e+07</td>\n",
       "      <td>3.556503e+07</td>\n",
       "      <td>2.671470e+08</td>\n",
       "    </tr>\n",
       "    <tr>\n",
       "      <th>std</th>\n",
       "      <td>7.037779e+00</td>\n",
       "      <td>7.074154e+09</td>\n",
       "      <td>2.479277e+09</td>\n",
       "      <td>3.739231e+11</td>\n",
       "    </tr>\n",
       "    <tr>\n",
       "      <th>min</th>\n",
       "      <td>1.988000e+03</td>\n",
       "      <td>1.000000e+00</td>\n",
       "      <td>0.000000e+00</td>\n",
       "      <td>0.000000e+00</td>\n",
       "    </tr>\n",
       "    <tr>\n",
       "      <th>25%</th>\n",
       "      <td>1.999000e+03</td>\n",
       "      <td>1.107200e+04</td>\n",
       "      <td>1.089000e+03</td>\n",
       "      <td>1.062000e+03</td>\n",
       "    </tr>\n",
       "    <tr>\n",
       "      <th>50%</th>\n",
       "      <td>2.005000e+03</td>\n",
       "      <td>1.534160e+05</td>\n",
       "      <td>2.689800e+04</td>\n",
       "      <td>2.712000e+04</td>\n",
       "    </tr>\n",
       "    <tr>\n",
       "      <th>75%</th>\n",
       "      <td>2.011000e+03</td>\n",
       "      <td>1.895476e+06</td>\n",
       "      <td>4.474432e+05</td>\n",
       "      <td>4.623620e+05</td>\n",
       "    </tr>\n",
       "    <tr>\n",
       "      <th>max</th>\n",
       "      <td>2.016000e+03</td>\n",
       "      <td>2.443311e+12</td>\n",
       "      <td>1.860133e+12</td>\n",
       "      <td>1.026357e+15</td>\n",
       "    </tr>\n",
       "  </tbody>\n",
       "</table>\n",
       "</div>"
      ],
      "text/plain": [
       "               year     trade_usd     weight_kg      quantity\n",
       "count  8.225871e+06  8.225871e+06  8.097396e+06  7.921014e+06\n",
       "mean   2.004768e+03  9.505370e+07  3.556503e+07  2.671470e+08\n",
       "std    7.037779e+00  7.074154e+09  2.479277e+09  3.739231e+11\n",
       "min    1.988000e+03  1.000000e+00  0.000000e+00  0.000000e+00\n",
       "25%    1.999000e+03  1.107200e+04  1.089000e+03  1.062000e+03\n",
       "50%    2.005000e+03  1.534160e+05  2.689800e+04  2.712000e+04\n",
       "75%    2.011000e+03  1.895476e+06  4.474432e+05  4.623620e+05\n",
       "max    2.016000e+03  2.443311e+12  1.860133e+12  1.026357e+15"
      ]
     },
     "execution_count": 3,
     "metadata": {},
     "output_type": "execute_result"
    }
   ],
   "source": [
    "df.describe()"
   ]
  },
  {
   "cell_type": "code",
   "execution_count": 4,
   "metadata": {},
   "outputs": [],
   "source": [
    "commodities = pd.concat([df['commodity'].str.split(', ', expand=True)], axis=1)"
   ]
  },
  {
   "cell_type": "code",
   "execution_count": 5,
   "metadata": {},
   "outputs": [],
   "source": [
    "new_df = pd.concat([df,commodities], axis = 1)\n",
    "new_df = new_df.rename(columns={0:'commodity1', 1:'commodity2', 2:'commodity3', 3:'commodity4', 4:'commodity5', 5:'commodity6', 6:'commodity7'})"
   ]
  },
  {
   "cell_type": "markdown",
   "metadata": {},
   "source": [
    "#### Number of categories for each variable"
   ]
  },
  {
   "cell_type": "code",
   "execution_count": 6,
   "metadata": {},
   "outputs": [],
   "source": [
    "categories = pd.DataFrame(new_df.nunique())\n",
    "categories.columns = ['No. of Categories']"
   ]
  },
  {
   "cell_type": "code",
   "execution_count": 7,
   "metadata": {},
   "outputs": [
    {
     "data": {
      "text/html": [
       "<div>\n",
       "<style scoped>\n",
       "    .dataframe tbody tr th:only-of-type {\n",
       "        vertical-align: middle;\n",
       "    }\n",
       "\n",
       "    .dataframe tbody tr th {\n",
       "        vertical-align: top;\n",
       "    }\n",
       "\n",
       "    .dataframe thead th {\n",
       "        text-align: right;\n",
       "    }\n",
       "</style>\n",
       "<table border=\"1\" class=\"dataframe\">\n",
       "  <thead>\n",
       "    <tr style=\"text-align: right;\">\n",
       "      <th></th>\n",
       "      <th>No. of Categories</th>\n",
       "    </tr>\n",
       "  </thead>\n",
       "  <tbody>\n",
       "    <tr>\n",
       "      <th>country_or_area</th>\n",
       "      <td>209</td>\n",
       "    </tr>\n",
       "    <tr>\n",
       "      <th>year</th>\n",
       "      <td>29</td>\n",
       "    </tr>\n",
       "    <tr>\n",
       "      <th>comm_code</th>\n",
       "      <td>5040</td>\n",
       "    </tr>\n",
       "    <tr>\n",
       "      <th>commodity</th>\n",
       "      <td>5031</td>\n",
       "    </tr>\n",
       "    <tr>\n",
       "      <th>flow</th>\n",
       "      <td>4</td>\n",
       "    </tr>\n",
       "    <tr>\n",
       "      <th>trade_usd</th>\n",
       "      <td>3062165</td>\n",
       "    </tr>\n",
       "    <tr>\n",
       "      <th>weight_kg</th>\n",
       "      <td>2137907</td>\n",
       "    </tr>\n",
       "    <tr>\n",
       "      <th>quantity_name</th>\n",
       "      <td>12</td>\n",
       "    </tr>\n",
       "    <tr>\n",
       "      <th>quantity</th>\n",
       "      <td>2124833</td>\n",
       "    </tr>\n",
       "    <tr>\n",
       "      <th>category</th>\n",
       "      <td>98</td>\n",
       "    </tr>\n",
       "    <tr>\n",
       "      <th>commodity1</th>\n",
       "      <td>3903</td>\n",
       "    </tr>\n",
       "    <tr>\n",
       "      <th>commodity2</th>\n",
       "      <td>1881</td>\n",
       "    </tr>\n",
       "    <tr>\n",
       "      <th>commodity3</th>\n",
       "      <td>931</td>\n",
       "    </tr>\n",
       "    <tr>\n",
       "      <th>commodity4</th>\n",
       "      <td>355</td>\n",
       "    </tr>\n",
       "    <tr>\n",
       "      <th>commodity5</th>\n",
       "      <td>82</td>\n",
       "    </tr>\n",
       "    <tr>\n",
       "      <th>commodity6</th>\n",
       "      <td>14</td>\n",
       "    </tr>\n",
       "    <tr>\n",
       "      <th>commodity7</th>\n",
       "      <td>3</td>\n",
       "    </tr>\n",
       "  </tbody>\n",
       "</table>\n",
       "</div>"
      ],
      "text/plain": [
       "                 No. of Categories\n",
       "country_or_area                209\n",
       "year                            29\n",
       "comm_code                     5040\n",
       "commodity                     5031\n",
       "flow                             4\n",
       "trade_usd                  3062165\n",
       "weight_kg                  2137907\n",
       "quantity_name                   12\n",
       "quantity                   2124833\n",
       "category                        98\n",
       "commodity1                    3903\n",
       "commodity2                    1881\n",
       "commodity3                     931\n",
       "commodity4                     355\n",
       "commodity5                      82\n",
       "commodity6                      14\n",
       "commodity7                       3"
      ]
     },
     "execution_count": 7,
     "metadata": {},
     "output_type": "execute_result"
    }
   ],
   "source": [
    "categories"
   ]
  },
  {
   "cell_type": "code",
   "execution_count": 8,
   "metadata": {},
   "outputs": [
    {
     "data": {
      "text/plain": [
       "array(['Number of items', 'No Quantity', 'Weight in kilograms',\n",
       "       'Volume in litres', 'Length in metres', 'Area in square metres',\n",
       "       'Electrical energy in thousands of kilowatt-hours',\n",
       "       'Volume in cubic meters', 'Number of pairs', 'Thousands of items',\n",
       "       'Weight in carats', 'Number of packages'], dtype=object)"
      ]
     },
     "execution_count": 8,
     "metadata": {},
     "output_type": "execute_result"
    }
   ],
   "source": [
    "new_df.quantity_name.unique()"
   ]
  },
  {
   "cell_type": "markdown",
   "metadata": {},
   "source": [
    "#### Number of missing values in each column"
   ]
  },
  {
   "cell_type": "code",
   "execution_count": 9,
   "metadata": {},
   "outputs": [],
   "source": [
    "missing_values = pd.DataFrame(new_df.isna().sum())\n",
    "missing_values.columns = ['No. of missing values']"
   ]
  },
  {
   "cell_type": "code",
   "execution_count": 10,
   "metadata": {},
   "outputs": [
    {
     "data": {
      "text/html": [
       "<div>\n",
       "<style scoped>\n",
       "    .dataframe tbody tr th:only-of-type {\n",
       "        vertical-align: middle;\n",
       "    }\n",
       "\n",
       "    .dataframe tbody tr th {\n",
       "        vertical-align: top;\n",
       "    }\n",
       "\n",
       "    .dataframe thead th {\n",
       "        text-align: right;\n",
       "    }\n",
       "</style>\n",
       "<table border=\"1\" class=\"dataframe\">\n",
       "  <thead>\n",
       "    <tr style=\"text-align: right;\">\n",
       "      <th></th>\n",
       "      <th>No. of missing values</th>\n",
       "    </tr>\n",
       "  </thead>\n",
       "  <tbody>\n",
       "    <tr>\n",
       "      <th>country_or_area</th>\n",
       "      <td>0</td>\n",
       "    </tr>\n",
       "    <tr>\n",
       "      <th>year</th>\n",
       "      <td>0</td>\n",
       "    </tr>\n",
       "    <tr>\n",
       "      <th>comm_code</th>\n",
       "      <td>0</td>\n",
       "    </tr>\n",
       "    <tr>\n",
       "      <th>commodity</th>\n",
       "      <td>0</td>\n",
       "    </tr>\n",
       "    <tr>\n",
       "      <th>flow</th>\n",
       "      <td>0</td>\n",
       "    </tr>\n",
       "    <tr>\n",
       "      <th>trade_usd</th>\n",
       "      <td>0</td>\n",
       "    </tr>\n",
       "    <tr>\n",
       "      <th>weight_kg</th>\n",
       "      <td>128475</td>\n",
       "    </tr>\n",
       "    <tr>\n",
       "      <th>quantity_name</th>\n",
       "      <td>0</td>\n",
       "    </tr>\n",
       "    <tr>\n",
       "      <th>quantity</th>\n",
       "      <td>304857</td>\n",
       "    </tr>\n",
       "    <tr>\n",
       "      <th>category</th>\n",
       "      <td>0</td>\n",
       "    </tr>\n",
       "    <tr>\n",
       "      <th>commodity1</th>\n",
       "      <td>0</td>\n",
       "    </tr>\n",
       "    <tr>\n",
       "      <th>commodity2</th>\n",
       "      <td>2660905</td>\n",
       "    </tr>\n",
       "    <tr>\n",
       "      <th>commodity3</th>\n",
       "      <td>5271974</td>\n",
       "    </tr>\n",
       "    <tr>\n",
       "      <th>commodity4</th>\n",
       "      <td>7130822</td>\n",
       "    </tr>\n",
       "    <tr>\n",
       "      <th>commodity5</th>\n",
       "      <td>7983603</td>\n",
       "    </tr>\n",
       "    <tr>\n",
       "      <th>commodity6</th>\n",
       "      <td>8195486</td>\n",
       "    </tr>\n",
       "    <tr>\n",
       "      <th>commodity7</th>\n",
       "      <td>8218917</td>\n",
       "    </tr>\n",
       "  </tbody>\n",
       "</table>\n",
       "</div>"
      ],
      "text/plain": [
       "                 No. of missing values\n",
       "country_or_area                      0\n",
       "year                                 0\n",
       "comm_code                            0\n",
       "commodity                            0\n",
       "flow                                 0\n",
       "trade_usd                            0\n",
       "weight_kg                       128475\n",
       "quantity_name                        0\n",
       "quantity                        304857\n",
       "category                             0\n",
       "commodity1                           0\n",
       "commodity2                     2660905\n",
       "commodity3                     5271974\n",
       "commodity4                     7130822\n",
       "commodity5                     7983603\n",
       "commodity6                     8195486\n",
       "commodity7                     8218917"
      ]
     },
     "execution_count": 10,
     "metadata": {},
     "output_type": "execute_result"
    }
   ],
   "source": [
    "missing_values"
   ]
  },
  {
   "cell_type": "markdown",
   "metadata": {},
   "source": [
    "### Top importers and exporters overall in terms of Trade in USD"
   ]
  },
  {
   "cell_type": "code",
   "execution_count": 11,
   "metadata": {},
   "outputs": [],
   "source": [
    "# new_df.groupby(['country_or_area']).groups.keys()\n",
    "# df['country_or_area'].count()\n",
    "flow_analysis = new_df.groupby(['country_or_area', 'flow']).sum().reset_index()\n",
    "flow_analysis = flow_analysis.drop(['year'], axis=1)"
   ]
  },
  {
   "cell_type": "code",
   "execution_count": 12,
   "metadata": {},
   "outputs": [
    {
     "ename": "NameError",
     "evalue": "name 'flow_list' is not defined",
     "output_type": "error",
     "traceback": [
      "\u001b[0;31m---------------------------------------------------------------------------\u001b[0m",
      "\u001b[0;31mNameError\u001b[0m                                 Traceback (most recent call last)",
      "\u001b[0;32m<ipython-input-12-9d931ee41acf>\u001b[0m in \u001b[0;36m<module>\u001b[0;34m\u001b[0m\n\u001b[1;32m      1\u001b[0m \u001b[0mflowdata\u001b[0m \u001b[0;34m=\u001b[0m \u001b[0mnew_df\u001b[0m\u001b[0;34m.\u001b[0m\u001b[0mgroupby\u001b[0m\u001b[0;34m(\u001b[0m\u001b[0;34m[\u001b[0m\u001b[0;34m'country_or_area'\u001b[0m\u001b[0;34m,\u001b[0m\u001b[0;34m'flow'\u001b[0m\u001b[0;34m]\u001b[0m\u001b[0;34m)\u001b[0m\u001b[0;34m.\u001b[0m\u001b[0msum\u001b[0m\u001b[0;34m(\u001b[0m\u001b[0;34m)\u001b[0m\u001b[0;34m.\u001b[0m\u001b[0mreset_index\u001b[0m\u001b[0;34m(\u001b[0m\u001b[0;34m)\u001b[0m\u001b[0;34m\u001b[0m\u001b[0;34m\u001b[0m\u001b[0m\n\u001b[0;32m----> 2\u001b[0;31m \u001b[0mflowdata\u001b[0m \u001b[0;34m=\u001b[0m \u001b[0mflowdata\u001b[0m\u001b[0;34m[\u001b[0m\u001b[0mflowdata\u001b[0m\u001b[0;34m[\u001b[0m\u001b[0;34m'flow'\u001b[0m\u001b[0;34m]\u001b[0m\u001b[0;34m.\u001b[0m\u001b[0misin\u001b[0m\u001b[0;34m(\u001b[0m\u001b[0mflow_list\u001b[0m\u001b[0;34m)\u001b[0m\u001b[0;34m]\u001b[0m\u001b[0;34m\u001b[0m\u001b[0;34m\u001b[0m\u001b[0m\n\u001b[0m\u001b[1;32m      3\u001b[0m \u001b[0mflowdata\u001b[0m\u001b[0;34m.\u001b[0m\u001b[0mtrade_usd\u001b[0m \u001b[0;34m=\u001b[0m \u001b[0mround\u001b[0m\u001b[0;34m(\u001b[0m\u001b[0mflowdata\u001b[0m\u001b[0;34m.\u001b[0m\u001b[0mtrade_usd\u001b[0m\u001b[0;34m/\u001b[0m\u001b[0;34m(\u001b[0m\u001b[0;36m10\u001b[0m\u001b[0;34m**\u001b[0m\u001b[0;36m9\u001b[0m\u001b[0;34m)\u001b[0m\u001b[0;34m)\u001b[0m\u001b[0;34m.\u001b[0m\u001b[0mastype\u001b[0m\u001b[0;34m(\u001b[0m\u001b[0;34m'int'\u001b[0m\u001b[0;34m)\u001b[0m\u001b[0;34m\u001b[0m\u001b[0;34m\u001b[0m\u001b[0m\n\u001b[1;32m      4\u001b[0m \u001b[0mflow_list\u001b[0m \u001b[0;34m=\u001b[0m \u001b[0;34m[\u001b[0m\u001b[0;34m'Export'\u001b[0m\u001b[0;34m,\u001b[0m \u001b[0;34m'Import'\u001b[0m\u001b[0;34m]\u001b[0m\u001b[0;34m\u001b[0m\u001b[0;34m\u001b[0m\u001b[0m\n",
      "\u001b[0;31mNameError\u001b[0m: name 'flow_list' is not defined"
     ]
    }
   ],
   "source": [
    "flowdata = new_df.groupby(['country_or_area','flow']).sum().reset_index()\n",
    "flowdata = flowdata[flowdata['flow'].isin(flow_list)]\n",
    "flowdata.trade_usd = round(flowdata.trade_usd/(10**9)).astype('int')\n",
    "flow_list = ['Export', 'Import']"
   ]
  },
  {
   "cell_type": "code",
   "execution_count": null,
   "metadata": {},
   "outputs": [],
   "source": [
    "data = []\n",
    "for i in flow_list:\n",
    "    temp = flowdata[flowdata.flow ==i].sort_values(by ='trade_usd',ascending=False)\n",
    "    data.append(temp.head(10))\n",
    "f, (ax1,ax2) = plt.subplots(1,2,figsize=(15,10))\n",
    "axes = [ax1,ax2]\n",
    "for k in range(len(axes)):\n",
    "    sns.barplot(x = 'trade_usd',y='country_or_area',data=data[k],palette = 'viridis', ax=axes[k],edgecolor=\".2\")\n",
    "    axes[k].set_title('Top 10 '+flow_list[k]+'ers',fontsize=20)\n",
    "    axes[k].set_xlabel('Trade in USD', fontsize = 20)\n",
    "    axes[k].set_ylabel('Countries', fontsize = 20)\n",
    "    kwargs = {'length':5,'width':2,'color':'black','labelsize':20}\n",
    "    axes[k].tick_params(**kwargs)\n",
    "    x_axis = axes[k].axes.get_xaxis().set_visible(True)\n",
    "    sns.despine(bottom=True)\n",
    "    f.subplots_adjust(wspace=0.22,right= 2,hspace=0.4)\n",
    "plt.show()\n"
   ]
  },
  {
   "cell_type": "markdown",
   "metadata": {},
   "source": []
  },
  {
   "cell_type": "markdown",
   "metadata": {},
   "source": [
    "### Year-wise Exports and Imports"
   ]
  },
  {
   "cell_type": "markdown",
   "metadata": {},
   "source": [
    "#### Trade in USD "
   ]
  },
  {
   "cell_type": "code",
   "execution_count": null,
   "metadata": {},
   "outputs": [],
   "source": [
    "yearwise_flow = new_df.groupby(['year', 'flow']).agg(sum).reset_index()"
   ]
  },
  {
   "cell_type": "code",
   "execution_count": null,
   "metadata": {},
   "outputs": [],
   "source": [
    "f,ax = plt.subplots(figsize=(15,10))\n",
    "sns.lineplot(x = 'year', y = 'trade_usd', hue = 'flow', style = 'flow', markers = True, data = yearwise_flow)\n",
    "sns.despine(bottom=False)\n",
    "ax.axvline(x = 2009, color = 'black', linestyle = '--', linewidth = 1)\n",
    "ax.set_title('Year-wise trends of Trade in USD by Flow',fontsize=20)\n",
    "ax.set_ylabel('Trade in USD (in trillions)', fontsize = 20)\n",
    "ax.set_xlabel('Year', fontsize = 20)\n"
   ]
  },
  {
   "cell_type": "markdown",
   "metadata": {},
   "source": []
  },
  {
   "cell_type": "markdown",
   "metadata": {},
   "source": [
    "#### Weight in kg"
   ]
  },
  {
   "cell_type": "code",
   "execution_count": null,
   "metadata": {},
   "outputs": [],
   "source": [
    "f,ax = plt.subplots(figsize=(15,10))\n",
    "sns.lineplot(x = 'year', y = 'weight_kg', hue = 'flow', style = 'flow', markers = True, data = yearwise_flow)\n",
    "sns.despine(bottom=False)\n",
    "# ax.axvline(x = 2009, color = 'black', linestyle = '--', linewidth = 1)\n",
    "ax.set_title('Year-wise trends of weight in kg by Flow',fontsize=20)\n",
    "ax.set_ylabel('Weight in kg', fontsize = 20)\n",
    "ax.set_xlabel('Year', fontsize = 20)"
   ]
  },
  {
   "cell_type": "code",
   "execution_count": null,
   "metadata": {},
   "outputs": [],
   "source": []
  },
  {
   "cell_type": "markdown",
   "metadata": {},
   "source": [
    "### Country-wise exports and imports "
   ]
  },
  {
   "cell_type": "markdown",
   "metadata": {},
   "source": [
    "#### Based on Quantity"
   ]
  },
  {
   "cell_type": "code",
   "execution_count": null,
   "metadata": {},
   "outputs": [],
   "source": [
    "countrywise_flow_quantity = new_df[new_df.quantity_name == 'Number of items'].groupby(['country_or_area', 'flow']).agg(sum).reset_index()\n",
    "countrywise_flow_quantity = countrywise_flow_quantity.sort_values(['quantity'],ascending=False)\n"
   ]
  },
  {
   "cell_type": "code",
   "execution_count": null,
   "metadata": {},
   "outputs": [],
   "source": [
    "f, ax = plt.subplots(figsize=(15,10))\n",
    "\n",
    "sns.barplot(x=countrywise_flow_quantity[\"country_or_area\"].head(20), y=countrywise_flow_quantity['quantity'].head(20), hue = 'flow', data=countrywise_flow_quantity)\n",
    "sns.despine(bottom=False)\n",
    "\n",
    "ax.set_yscale('log')\n",
    "ax.set_xlabel(\"Name of Country\",fontsize=15)\n",
    "ax.set_ylabel(\"Import/Export Quantity (on log scale)\",fontsize=15)\n",
    "ax.set_title('Top countries with highest quantities of Flow')\n",
    "for item in ax.get_xticklabels():\n",
    "    item.set_rotation(90)"
   ]
  },
  {
   "cell_type": "code",
   "execution_count": null,
   "metadata": {},
   "outputs": [],
   "source": []
  },
  {
   "cell_type": "markdown",
   "metadata": {},
   "source": [
    "#### Based on Weight"
   ]
  },
  {
   "cell_type": "code",
   "execution_count": null,
   "metadata": {},
   "outputs": [],
   "source": [
    "countrywise_flow_weight = new_df.groupby(['country_or_area', 'flow']).agg(sum).reset_index()\n",
    "countrywise_flow_weight = countrywise_flow_weight.sort_values(['weight_kg'],ascending=False)\n"
   ]
  },
  {
   "cell_type": "code",
   "execution_count": null,
   "metadata": {},
   "outputs": [],
   "source": [
    "f, ax = plt.subplots(figsize=(15,10))\n",
    "\n",
    "sns.barplot(x=countrywise_flow_weight[\"country_or_area\"].head(20), y=countrywise_flow_weight['weight_kg'].head(20), hue = 'flow', data=countrywise_flow_weight)\n",
    "sns.despine(bottom=False)\n",
    "\n",
    "# ax.set_yscale('log')\n",
    "ax.set_xlabel(\"Name of Country\",fontsize=15)\n",
    "ax.set_ylabel(\"Import/Export Weight in Kg\",fontsize=15)\n",
    "ax.set_title('Top countries with highest trade in weight based of Flow')\n",
    "for item in ax.get_xticklabels():\n",
    "    item.set_rotation(90)"
   ]
  },
  {
   "cell_type": "code",
   "execution_count": null,
   "metadata": {},
   "outputs": [],
   "source": []
  },
  {
   "cell_type": "markdown",
   "metadata": {},
   "source": [
    "#### Based on trade in USD"
   ]
  },
  {
   "cell_type": "code",
   "execution_count": null,
   "metadata": {},
   "outputs": [],
   "source": [
    "countrywise_flow_trade = new_df.groupby(['country_or_area', 'flow']).agg(sum).reset_index()\n",
    "countrywise_flow_trade = countrywise_flow_trade.sort_values(['trade_usd'],ascending=False)\n"
   ]
  },
  {
   "cell_type": "code",
   "execution_count": null,
   "metadata": {},
   "outputs": [],
   "source": [
    "f, ax = plt.subplots(figsize=(15,10))\n",
    "\n",
    "sns.barplot(x=countrywise_flow_trade[\"country_or_area\"].head(20), y=countrywise_flow_trade['weight_kg'].head(20), hue = 'flow', data=countrywise_flow_trade)\n",
    "sns.despine(bottom=False)\n",
    "\n",
    "# ax.set_yscale('log')\n",
    "ax.set_xlabel(\"Name of Country\",fontsize=15)\n",
    "ax.set_ylabel(\"Import/Export Trade in USD (in trillions)\",fontsize=15)\n",
    "ax.set_title('Top countries with highest trade in USD based of Flow')\n",
    "for item in ax.get_xticklabels():\n",
    "    item.set_rotation(90)"
   ]
  },
  {
   "cell_type": "code",
   "execution_count": null,
   "metadata": {},
   "outputs": [],
   "source": []
  },
  {
   "cell_type": "markdown",
   "metadata": {},
   "source": [
    "#### Comparision of trade among top countries "
   ]
  },
  {
   "cell_type": "code",
   "execution_count": null,
   "metadata": {},
   "outputs": [],
   "source": [
    "data = new_df.groupby(['country_or_area','year','flow']).sum().reset_index()\n",
    "ctry_list = ['EU-28', 'USA', 'China','Germany','Japan','France', 'United Kingdom', 'Canada']\n",
    "\n",
    "data = data[data['country_or_area'].isin(ctry_list)]\n",
    "\n",
    "data.trade_usd = round((data.trade_usd/(10**12)),2).astype('float')\n",
    "\n",
    "f, ax = plt.subplots(figsize = (15, 10))\n",
    "for i in range(8):\n",
    "    data[(data.country_or_area==ctry_list[i]) & (data.flow==flow_list[0])].plot(kind = 'line',\n",
    "                            x='year',y='trade_usd',marker='o',label = ctry_list[i],ax =ax)\n",
    "\n",
    "# ax.axvline(x=2009, color='darkred',linestyle= '-',linewidth=3)\n",
    "kwargs = {'fontsize':13,'color':'black'}\n",
    "plt.xlabel('Year',**kwargs)\n",
    "plt.ylabel('Amounts in USD (in trillions)',**kwargs)\n",
    "# ax.set_yticklabels(['0','0.5T','1T','1.5T','2T','2.5T','3.5T'])\n",
    "kg = {'length':3,'width':1,'color':'black','labelsize':12}\n",
    "ax.tick_params(**kg)\n",
    "sns.despine(bottom=False)\n",
    "plt.title('Top Countries '+ flow_list[0]+'ers'+' of Commodities',fontsize=14)\n",
    "plt.legend(loc='best',fontsize=12,ncol=3)\n",
    "plt.show()\n"
   ]
  },
  {
   "cell_type": "code",
   "execution_count": null,
   "metadata": {},
   "outputs": [],
   "source": [
    "f, ax = plt.subplots(figsize = (15, 10))\n",
    "for i in range(8):\n",
    "    data[(data.country_or_area==ctry_list[i]) & (data.flow==flow_list[1])].plot(kind = 'line',\n",
    "                            x='year',y='trade_usd',marker='o',label = ctry_list[i],ax =ax)\n",
    "\n",
    "# ax.axvline(x=2009, color='darkred',linestyle= '-',linewidth=3)\n",
    "kwargs = {'fontsize':13,'color':'black'}\n",
    "plt.xlabel('Year',**kwargs)\n",
    "plt.ylabel('Amounts in USD (in trillions)',**kwargs)\n",
    "# ax.set_yticklabels(['0','0.5T','1T','1.5T','2T','2.5T','3.5T'])\n",
    "kg = {'length':3,'width':1,'color':'black','labelsize':12}\n",
    "ax.tick_params(**kg)\n",
    "sns.despine(bottom=False)\n",
    "plt.title('Top Countries '+ flow_list[1]+'ers'+' of Commodities',fontsize=14)\n",
    "plt.legend(loc='best',fontsize=12,ncol=3)\n",
    "plt.show()"
   ]
  }
 ],
 "metadata": {
  "kernelspec": {
   "display_name": "Python 3",
   "language": "python",
   "name": "python3"
  },
  "language_info": {
   "codemirror_mode": {
    "name": "ipython",
    "version": 3
   },
   "file_extension": ".py",
   "mimetype": "text/x-python",
   "name": "python",
   "nbconvert_exporter": "python",
   "pygments_lexer": "ipython3",
   "version": "3.7.1"
  }
 },
 "nbformat": 4,
 "nbformat_minor": 2
}
